{
 "cells": [
  {
   "cell_type": "markdown",
   "metadata": {},
   "source": [
    "# Convert Sequences to Tensors "
   ]
  },
  {
   "cell_type": "code",
   "execution_count": 2,
   "metadata": {
    "collapsed": true
   },
   "outputs": [],
   "source": [
    "import numpy as np\n",
    "import pandas as pd\n",
    "import scipy.io as sio\n",
    "from Bio import SeqIO\n",
    "import collections\n",
    "\n",
    "\n",
    "import torch\n",
    "import torch.nn as nn\n",
    "from torch.autograd import Variable\n",
    "import torch.nn.functional as F\n",
    "import random\n",
    "\n",
    "\n",
    "pdir = '/Users/Brenton/Documents/Capstone/'\n",
    "\n",
    "def load_test_sets(filename):\n",
    "\n",
    "    print(\"### Loading *.mat file...\")\n",
    "    go_data = sio.loadmat(filename, squeeze_me=True)\n",
    "\n",
    "    go_terms = go_data['goTerm_labels'] # names of gene ontology function terms\n",
    "    train_annotations = np.asarray(go_data['trainProts_label'].todense()) # training set of function annotations\n",
    "    valid_annotations = np.asarray(go_data['validProts_label'].todense()) # valid \"\" \"\"\n",
    "    test_annotations = np.asarray(go_data['testProts_label'].todense()) # test \"\" \"\"\n",
    "    train_inds = go_data['trainProts']\n",
    "    train_inds = train_inds - 1\n",
    "    valid_inds = go_data['validProts']\n",
    "    valid_inds = valid_inds - 1\n",
    "    test_inds = go_data['testProts']\n",
    "    test_inds = test_inds - 1 # subtract 1 for matlab index conversion into python\n",
    "\n",
    "    return train_inds, valid_inds, test_inds, train_annotations, valid_annotations, test_annotations, go_terms\n",
    "\n",
    "def load_FASTA(filename):\n",
    "    \"\"\" Loads fasta file and returns a list of the Bio SeqIO records \"\"\"\n",
    "    print(\"### Loading fasta file...\")\n",
    "    infile = open(filename, 'rU')\n",
    "    full_entries = list(SeqIO.parse(infile, 'fasta'))\n",
    "    sequences = [str(entry.seq) for entry in full_entries]\n",
    "    names = [str(entry.id) for entry in full_entries]\n",
    "\n",
    "    return sequences, names"
   ]
  },
  {
   "cell_type": "code",
   "execution_count": 4,
   "metadata": {
    "collapsed": false
   },
   "outputs": [
    {
     "name": "stdout",
     "output_type": "stream",
     "text": [
      "### Loading fasta file...\n"
     ]
    },
    {
     "name": "stderr",
     "output_type": "stream",
     "text": [
      "/Users/Brenton/anaconda/lib/python3.5/site-packages/ipykernel/__main__.py:38: DeprecationWarning: 'U' mode is deprecated\n"
     ]
    },
    {
     "name": "stdout",
     "output_type": "stream",
     "text": [
      "### Loading *.mat file...\n",
      "Number of training prots: 9751\n",
      "Number of validation prots: 3871\n",
      "Number of testing prots: 1647\n"
     ]
    }
   ],
   "source": [
    "#Human Sequences\n",
    "fasta = pdir+'human_sequences.fasta'\n",
    "test_set_file = pdir+'human_annotations_temporal_holdout.mat'\n",
    "\n",
    "sequences, names = load_FASTA(fasta)\n",
    "train_inds, valid_inds, test_inds, y_trainH, y_validHuman, y_testHuman, go_termsHuman = load_test_sets(test_set_file)\n",
    "\n",
    "train_seqsHuman = [sequences[i] for i in train_inds]\n",
    "print('Number of training prots: ' + str(len(train_seqsHuman)))\n",
    "valid_seqsHuman = [sequences[i] for i in valid_inds]\n",
    "print('Number of validation prots: ' + str(len(valid_seqsHuman)))\n",
    "test_seqsHuman = [sequences[i] for i in test_inds]\n",
    "print('Number of testing prots: ' + str(len(test_seqsHuman)))"
   ]
  },
  {
   "cell_type": "code",
   "execution_count": 5,
   "metadata": {
    "collapsed": false
   },
   "outputs": [
    {
     "name": "stdout",
     "output_type": "stream",
     "text": [
      "### Loading fasta file...\n",
      "### Loading *.mat file...\n",
      "Number of training prots: 3447\n",
      "Number of validation prots: 963\n",
      "Number of testing prots: 206\n"
     ]
    },
    {
     "name": "stderr",
     "output_type": "stream",
     "text": [
      "/Users/Brenton/anaconda/lib/python3.5/site-packages/ipykernel/__main__.py:38: DeprecationWarning: 'U' mode is deprecated\n"
     ]
    }
   ],
   "source": [
    "#Yeast sequences\n",
    "fasta = pdir+'yeast_sequences.fasta'\n",
    "test_set_file = pdir+'yeast_MF_temporal_holdout.mat'\n",
    "\n",
    "sequences, names = load_FASTA(fasta)\n",
    "train_inds, valid_inds, test_inds, y_trainYeast, y_validYeast, y_testYeast, go_termsYeast = load_test_sets(test_set_file)\n",
    "\n",
    "train_seqsYeast = [sequences[i] for i in train_inds]\n",
    "print('Number of training prots: ' + str(len(train_seqsYeast)))\n",
    "valid_seqsYeast = [sequences[i] for i in valid_inds]\n",
    "print('Number of validation prots: ' + str(len(valid_seqsYeast)))\n",
    "test_seqsYeast = [sequences[i] for i in test_inds]\n",
    "print('Number of testing prots: ' + str(len(test_seqsYeast)))"
   ]
  },
  {
   "cell_type": "markdown",
   "metadata": {},
   "source": [
    "------------"
   ]
  },
  {
   "cell_type": "markdown",
   "metadata": {},
   "source": [
    "# Re-Format data into tensor objects"
   ]
  },
  {
   "cell_type": "code",
   "execution_count": 7,
   "metadata": {
    "collapsed": false
   },
   "outputs": [
    {
     "data": {
      "text/plain": [
       "\n",
       "    0     0     0  ...      0     0     0\n",
       "    0     0     0  ...      0     0     0\n",
       "    0     0     0  ...      1     0     1\n",
       "       ...          ⋱          ...       \n",
       "    0     0     0  ...      0     0     0\n",
       "    0     0     0  ...      0     0     0\n",
       "    0     0     0  ...      1     0     1\n",
       "[torch.LongTensor of size 3447x26]"
      ]
     },
     "execution_count": 7,
     "metadata": {},
     "output_type": "execute_result"
    }
   ],
   "source": [
    "yTrainYeast = torch.from_numpy(y_trainYeast).type(torch.LongTensor)\n",
    "yValidYeast = torch.from_numpy(y_validYeast).type(torch.LongTensor)\n",
    "yTestYeast = torch.from_numpy(y_testYeast).type(torch.LongTensor)\n",
    "yTrainYeast"
   ]
  },
  {
   "cell_type": "markdown",
   "metadata": {},
   "source": [
    "## Vectorize all amino-acid chains in the list \n",
    "#### Each amino-acid string becomes one row in a tensor object.\n",
    "#### This tensor object has dimension NxD, where N is the number of amino-acid strings and D is the length of the longest chain in the set. "
   ]
  },
  {
   "cell_type": "code",
   "execution_count": 8,
   "metadata": {
    "collapsed": true
   },
   "outputs": [],
   "source": [
    "ConvertCharToInt = {'A':1, 'B':2, 'C':3, 'D':4, 'E':5, 'F':6, 'G':7, 'H':8, 'I':9, 'J':10,\n",
    "                   'K':11, 'L':12, 'M':13, 'N':14, 'O':15, 'P':16, 'Q':17, 'R':18, 'S':19,\n",
    "                   'T':20, 'U':21, 'V':22, 'W':23, 'X':24, 'Y':25, 'Z':26}\n",
    "\n",
    "def vectorize_AAs(string):\n",
    "    '''This function takes an amino-acid string as input and outputs a vector of integers, with each\n",
    "    integer representing one amino acid.\n",
    "    \n",
    "    For example, 'BACEA' is converted to [2, 1, 3, 5, 1]\n",
    "    '''\n",
    "    character_list = list(string) #converts 'BACEA' to ['B','A','C','E','A]\n",
    "    for i in range(len(character_list)):\n",
    "        character_list[i] = ConvertCharToInt[character_list[i]] #convert the character to a number\n",
    "    return character_list\n",
    "\n",
    "def AddZeros_and_ConvertToTensor(oldvector, max_length):\n",
    "    '''This function adds the necessary number of zeros at the end of a tensor object'''\n",
    "    #max_length = length of longest vector in the batch\n",
    "    #oldvector = initial vector for that amino-acid chain\n",
    "    vector = torch.FloatTensor(oldvector)\n",
    "    diff = max_length - vector.size()[0]\n",
    "    if diff>0:\n",
    "        ZerosToAdd = torch.zeros(diff)\n",
    "        NewTensor = torch.cat((vector,ZerosToAdd),0)\n",
    "    else:\n",
    "        NewTensor = vector\n",
    "    return NewTensor \n",
    "\n",
    "def TransformAAsToTensor(OldListOfSequences):\n",
    "    '''This function takes as input a list of amino acid strings and creates a tensor matrix\n",
    "    of dimension NxD, where N is the number of strings and D is the length of the longest AA chain\n",
    "    \n",
    "    \"OldListOfSequences\" can be training, validation, or test sets\n",
    "    '''\n",
    "    NewListOfSequences = [] #This will be a list of vectors (one vector per chain)\n",
    "    max_length = 0\n",
    "    for AA in range(len(OldListOfSequences)): #for each amino-acid sequence\n",
    "        integer_vector = vectorize_AAs(OldListOfSequences[AA])\n",
    "        #find longest amino-acid sequence\n",
    "        if len(integer_vector)>max_length:\n",
    "            max_length = len(integer_vector)\n",
    "        \n",
    "        NewListOfSequences.append(integer_vector) #append integer-list to NewListOfSequences\n",
    "    \n",
    "    #Initialize new tensor\n",
    "    NewTensor = AddZeros_and_ConvertToTensor(NewListOfSequences[0], max_length)\n",
    "    \n",
    "    for i in range(1, len(NewListOfSequences)):\n",
    "        vector = AddZeros_and_ConvertToTensor(NewListOfSequences[i], max_length)\n",
    "        if i == 1:\n",
    "            NewTensor = torch.stack((NewTensor,vector),1)\n",
    "        else:\n",
    "            NewTensor = torch.cat((NewTensor,vector),1)\n",
    "    \n",
    "    NewTensor = torch.transpose(NewTensor,0,-1)\n",
    "    return NewTensor"
   ]
  },
  {
   "cell_type": "markdown",
   "metadata": {},
   "source": [
    "### Takes a couple minutes to run. "
   ]
  },
  {
   "cell_type": "code",
   "execution_count": 9,
   "metadata": {
    "collapsed": false
   },
   "outputs": [
    {
     "data": {
      "text/plain": [
       "\n",
       "   13     3     7  ...      0     0     0\n",
       "   13     4     1  ...      0     0     0\n",
       "   13     9    11  ...      0     0     0\n",
       "       ...          ⋱          ...       \n",
       "   13    12     4  ...      0     0     0\n",
       "   13    22    19  ...      0     0     0\n",
       "   13    12    13  ...      0     0     0\n",
       "[torch.FloatTensor of size 206x1592]"
      ]
     },
     "execution_count": 9,
     "metadata": {},
     "output_type": "execute_result"
    }
   ],
   "source": [
    "TrainSeqsYeast = TransformAAsToTensor(train_seqsYeast)\n",
    "ValidSeqsYeast = TransformAAsToTensor(valid_seqsYeast)\n",
    "TestSeqsYeast = TransformAAsToTensor(test_seqsYeast)\n",
    "TestSeqsYeast"
   ]
  },
  {
   "cell_type": "code",
   "execution_count": 13,
   "metadata": {
    "collapsed": false
   },
   "outputs": [
    {
     "data": {
      "text/plain": [
       "'MCGIFGYCNFLIEKTRGEIIDTLIEGLQALEYKEYDSSGISIQGDELESLNIYKQTGKISSLKEEIDLYNLNKNLPFISHCGIAHTRRATHGGLRRANCHPHNSDPSNEFVVVHNGVITNFANLKALLMAKGYVFKSDTDTECIPKLYKHIYDTSIELGYNLDFHVLTNLVLKELEGSYGLLCTSSHFPDEVVAARKGSPLVIGVKGKTDMDVNFVEVEYLDQEEDYLKLNTQTKSSGNVLAAAPVKYNTCLRKSPPFVHNT'"
      ]
     },
     "execution_count": 13,
     "metadata": {},
     "output_type": "execute_result"
    }
   ],
   "source": [
    "test_seqsYeast[0]"
   ]
  },
  {
   "cell_type": "code",
   "execution_count": null,
   "metadata": {
    "collapsed": true
   },
   "outputs": [],
   "source": []
  }
 ],
 "metadata": {
  "anaconda-cloud": {},
  "kernelspec": {
   "display_name": "Python [Root]",
   "language": "python",
   "name": "Python [Root]"
  },
  "language_info": {
   "codemirror_mode": {
    "name": "ipython",
    "version": 3
   },
   "file_extension": ".py",
   "mimetype": "text/x-python",
   "name": "python",
   "nbconvert_exporter": "python",
   "pygments_lexer": "ipython3",
   "version": "3.5.2"
  }
 },
 "nbformat": 4,
 "nbformat_minor": 0
}
